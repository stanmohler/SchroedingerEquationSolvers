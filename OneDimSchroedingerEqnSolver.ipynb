{
 "cells": [
  {
   "cell_type": "markdown",
   "id": "3dc719b3",
   "metadata": {},
   "source": [
    "## 1D Schroedinger Equation Solver - Holoviews\n",
    "\n",
    "by Stan Mohler, Jr.  10/2022\n",
    "\n",
    "This Notebook numerically solves the 1-D time-dependent Schroedinger\n",
    "equation for a free particle with periodic (wrap-around) boundary conditions.  \n",
    "\n",
    "An implicit Laasonen solver is used.  PyTorch runs it on the GPU.  \n",
    "**TODO** - See if a MacCormack solver conserves area under the probability\n",
    "curve better.\n",
    "\n",
    "A wave packet is launched toward a potential barrier, which splits the\n",
    "packet into a left-moving and a right-moving packet.  Upon meeting up,\n",
    "the two wave packets produce an interference pattern.  "
   ]
  },
  {
   "cell_type": "code",
   "execution_count": null,
   "id": "87843d5c",
   "metadata": {},
   "outputs": [],
   "source": [
    "import torch\n",
    "import pycuda.driver as cuda\n",
    "import pycuda.autoinit\n",
    "import matplotlib.pyplot as plt\n",
    "\n",
    "import holoviews as hv\n",
    "from holoviews import opts\n",
    "from holoviews.streams import Pipe, Buffer\n",
    "import numpy as np\n",
    "import time, math\n",
    "\n",
    "hv.extension('bokeh')\n",
    "\n",
    "cuda.init()"
   ]
  },
  {
   "cell_type": "markdown",
   "id": "9ce5ca3a",
   "metadata": {},
   "source": [
    "### A function to print available GPU memory"
   ]
  },
  {
   "cell_type": "code",
   "execution_count": null,
   "id": "b4700fc9",
   "metadata": {},
   "outputs": [],
   "source": [
    "def print_memory_info(msg=None):\n",
    "    \n",
    "    #print(\"torch.cuda.memory_allocated:    %fGB\"%(torch.cuda.memory_allocated(0)/1024/1024/1024))\n",
    "    #print(\"torch.cuda.memory_reserved:     %fGB\"%(torch.cuda.memory_reserved(0)/1024/1024/1024))\n",
    "    #print(\"torch.cuda.max_memory_reserved: %fGB\"%(torch.cuda.max_memory_reserved(0)/1024/1024/1024))\n",
    "\n",
    "    availableBytes, totalBytes = cuda.mem_get_info()\n",
    "    if msg is None:\n",
    "        print(f'GPU has {availableBytes/1e9:.2f} GB available of {totalBytes/1e9:.2f} GB total')\n",
    "    else:\n",
    "        print(f'{msg}: GPU has {availableBytes/1e9:.2f} GB available of {totalBytes/1e9:.2f} GB total')\n",
    "\n",
    "print_memory_info()"
   ]
  },
  {
   "cell_type": "markdown",
   "id": "44275ad8",
   "metadata": {},
   "source": [
    "### Set some constants"
   ]
  },
  {
   "cell_type": "code",
   "execution_count": null,
   "id": "5c0b8f52",
   "metadata": {},
   "outputs": [],
   "source": [
    "# The imaginary number i\n",
    "IMAG_NUM = torch.complex(torch.zeros(1, dtype=torch.float32), torch.ones(1, dtype=torch.float32))\n",
    "IMAG_NUM"
   ]
  },
  {
   "cell_type": "code",
   "execution_count": null,
   "id": "1d657690",
   "metadata": {},
   "outputs": [],
   "source": [
    "IDIM = 2048\n",
    "XMIN = 0\n",
    "XMAX = 20\n",
    "X_INIT_PACKET_CTR = 0.5 * (XMIN + XMAX)\n",
    "LAMBDA0 = 1\n",
    "MASS = 1"
   ]
  },
  {
   "cell_type": "code",
   "execution_count": null,
   "id": "1a464cac",
   "metadata": {},
   "outputs": [],
   "source": [
    "dx = (XMAX-XMIN)/(IDIM-1)\n",
    "dt = 0.005 * dx\n",
    "\n",
    "a = torch.complex( (0.5 * dt/MASS/dx**2) * torch.ones(1, dtype=torch.float32), torch.zeros(1, dtype=torch.float32))\n",
    "b = IMAG_NUM - 2*a\n",
    "\n",
    "x_arry = np.arange(XMIN, XMAX+dx, dx)"
   ]
  },
  {
   "cell_type": "markdown",
   "id": "e3ebea61",
   "metadata": {},
   "source": [
    "### Plotting functions"
   ]
  },
  {
   "cell_type": "code",
   "execution_count": null,
   "id": "52932a12",
   "metadata": {},
   "outputs": [],
   "source": [
    "def plot_psi(x_arry, psi, step):\n",
    "    \n",
    "    plt.plot(x_arry, psi.real, c='g', label='real')\n",
    "    plt.plot(x_arry, psi.imag, c='r', label='imaginary')\n",
    "    plt.xlabel('x')\n",
    "    plt.ylabel('Ψ')\n",
    "    plt.grid('both')\n",
    "    plt.legend()\n",
    "    plt.title(f'Wave function Ψ at time step {step}')\n",
    "    plt.show()\n",
    "\n",
    "def plot_psi_star_psi(x_array, psi, step):\n",
    "    \n",
    "    psi_star = torch.conj(psi)\n",
    "    psi_star_diag = torch.diag(psi_star)\n",
    "    psi_star_psi = psi_star_diag.matmul(psi)\n",
    "    psi_star_psi = psi_star_psi.real  # imaginary part is zero\n",
    "    \n",
    "    plt.plot(x_arry, psi_star_psi)\n",
    "    plt.xlabel('x')\n",
    "    plt.ylabel('Ψ∗Ψ')\n",
    "    plt.grid('both')\n",
    "    plt.title(f'Ψ∗Ψ at time step {step}')\n",
    "    plt.show() "
   ]
  },
  {
   "cell_type": "markdown",
   "id": "95b380eb",
   "metadata": {},
   "source": [
    "### Function to initialize the right-moving wave packet"
   ]
  },
  {
   "cell_type": "code",
   "execution_count": null,
   "id": "57d126a7",
   "metadata": {},
   "outputs": [],
   "source": [
    "def create_initial_wavepacket(x_arry, x_packet_center, lambda0):\n",
    "    \n",
    "    two_over_pi = 2.0/np.pi\n",
    "    two_pi_over_lambda0 = 2.0 * np.pi / lambda0\n",
    "    \n",
    "    idim = len(x_arry)\n",
    "    \n",
    "    psi_re = torch.zeros(idim, dtype=torch.float32)\n",
    "    psi_im = torch.zeros(idim, dtype=torch.float32)\n",
    "    \n",
    "    for i,x in enumerate(x_arry):\n",
    "        x_minus_x_packet_center = x - x_packet_center\n",
    "        amplitude = (two_over_pi)**0.25 * np.exp(-x_minus_x_packet_center**2)\n",
    "        psi_re[i] = amplitude * np.cos(two_pi_over_lambda0 * x)\n",
    "        psi_im[i] = amplitude * np.sin(two_pi_over_lambda0 * x)\n",
    "    \n",
    "    psi = torch.complex(psi_re, psi_im)\n",
    "    \n",
    "    print(f'Created psi across idim = {len(psi)} grid points')\n",
    "    \n",
    "    return psi"
   ]
  },
  {
   "cell_type": "markdown",
   "id": "9e39b430",
   "metadata": {},
   "source": [
    "### Initialize the tri-diagonal matrix of the left hand side of the implicit finite difference equation\n",
    "Then find its inverse.  "
   ]
  },
  {
   "cell_type": "code",
   "execution_count": null,
   "id": "50043846",
   "metadata": {},
   "outputs": [],
   "source": [
    "Lr = torch.zeros(IDIM, IDIM)\n",
    "Lc = torch.zeros(IDIM, IDIM)\n",
    "\n",
    "L = torch.complex(Lr, Lc)\n",
    "\n",
    "for i in range(IDIM):\n",
    "    L[i,i] = b\n",
    "    for j in range(i-1, i+2, 2):\n",
    "        if 0 <= j and j < IDIM:\n",
    "            L[i,j] = a\n",
    "\n",
    "L[0, IDIM-2] = a\n",
    "L[IDIM-1, 1] = a\n",
    "\n",
    "Linv = torch.inverse(L)"
   ]
  },
  {
   "cell_type": "markdown",
   "id": "389cdf25",
   "metadata": {},
   "source": [
    "### Define the potential barrier\n",
    "It's the V(x) in the Schroedinger equation.  "
   ]
  },
  {
   "cell_type": "code",
   "execution_count": null,
   "id": "b2ca31aa",
   "metadata": {},
   "outputs": [],
   "source": [
    "V = torch.zeros(IDIM)\n",
    "VMAX = 20\n",
    "\n",
    "i_pot_step_start = int(0.75 * IDIM)\n",
    "num_steps        = int(0.15*IDIM)\n",
    "\n",
    "for i in range(num_steps):\n",
    "    i_step = i_pot_step_start + i\n",
    "    frac = i/num_steps\n",
    "    V[i_step] = VMAX - frac*VMAX\n",
    "    #print(f'i={i_step}, V={V[i_step]}')"
   ]
  },
  {
   "cell_type": "code",
   "execution_count": null,
   "id": "c304039c",
   "metadata": {},
   "outputs": [],
   "source": [
    "V = torch.zeros(IDIM)\n",
    "VMAX = 100\n",
    "\n",
    "i_pot_step_start = int(0.75 * IDIM)\n",
    "num_steps        = 6\n",
    "\n",
    "for i in range(num_steps):\n",
    "    i_step = i_pot_step_start + i\n",
    "    V[i_step] = VMAX"
   ]
  },
  {
   "cell_type": "markdown",
   "id": "903c59f1",
   "metadata": {},
   "source": [
    "### Plot the initial Ψ, the wave function\n",
    "It's a wave packet that will move to the right."
   ]
  },
  {
   "cell_type": "code",
   "execution_count": null,
   "id": "f3c4f40f",
   "metadata": {},
   "outputs": [],
   "source": [
    "psi = create_initial_wavepacket(x_arry, X_INIT_PACKET_CTR, LAMBDA0)\n",
    "\n",
    "plot_psi(x_arry, psi, 0)\n",
    "plot_psi_star_psi(x_arry, psi, 0)"
   ]
  },
  {
   "cell_type": "markdown",
   "id": "f6eb33dc",
   "metadata": {},
   "source": [
    "### Move some PyTorch tensors into the GPU\n",
    "Print GPU memory before and after moving tensors over.  "
   ]
  },
  {
   "cell_type": "code",
   "execution_count": null,
   "id": "026a1da5",
   "metadata": {},
   "outputs": [],
   "source": [
    "print_memory_info('Before allocating GPU memory')\n",
    "\n",
    "IMAG_NUM_cuda = IMAG_NUM.cuda()\n",
    "print_memory_info('After IMAG_NUM')\n",
    "\n",
    "psi_cuda      = psi.cuda()\n",
    "print_memory_info('After psi_cuda')\n",
    "\n",
    "Linv_cuda     = Linv.cuda()\n",
    "print_memory_info('After Linv_cuda')\n",
    "\n",
    "V_cuda        = V.cuda()\n",
    "print_memory_info('After V_cuda')"
   ]
  },
  {
   "cell_type": "markdown",
   "id": "fcb5eb22",
   "metadata": {},
   "source": [
    "### Define the function that solves the Schroedinger equation for Ψ(x,t)"
   ]
  },
  {
   "cell_type": "code",
   "execution_count": null,
   "id": "42d6bc3f",
   "metadata": {},
   "outputs": [],
   "source": [
    "def solve(pipe, x_arry, psi):\n",
    "    \n",
    "    # pipe      ...a Holoviews stream to push updated Ψ(x) to\n",
    "    # x_array   ...the x grid\n",
    "    # psi       ...Ψ(x)\n",
    "    \n",
    "    print_memory_info('Right before copying tensors to the GPU')\n",
    "    \n",
    "    IMAG_NUM_cuda = IMAG_NUM.cuda()\n",
    "    psi_cuda      = psi.cuda()\n",
    "    Linv_cuda     = Linv.cuda()\n",
    "    V_cuda        = V.cuda()\n",
    "    \n",
    "    #Extras = []\n",
    "    #for k in range(128):\n",
    "    #    Linv_cuda1 = Linv.cuda()\n",
    "    #    Extras.append(Linv_cuda1)\n",
    "    #    print_memory_info(f'After Linv_cuda1 for k = {k}')\n",
    "    \n",
    "    print_memory_info('Right after copying tensors to the GPU')\n",
    "    \n",
    "    total_steps = 0\n",
    "    count_til_plot = 1\n",
    "    area = 1.0\n",
    "    while(area > 0.95):\n",
    "        psi_cuda = (IMAG_NUM_cuda + V_cuda*dt) * psi_cuda\n",
    "        psi_cuda = Linv_cuda.matmul(psi_cuda)\n",
    "        total_steps += 1\n",
    "\n",
    "        count_til_plot -= 1\n",
    "        if count_til_plot == 0:          \n",
    "            psi = psi_cuda.cpu()\n",
    "            psi_star = torch.conj(psi)\n",
    "            psi_star_diag = torch.diag(psi_star)\n",
    "            psi_star_psi = psi_star_diag.matmul(psi)\n",
    "            psi_star_psi = psi_star_psi.real  # imaginary part is zero\n",
    "            \n",
    "            pipe.send( {'x': x_arry,'y': psi_star_psi} )\n",
    "            count_til_plot = 50\n",
    "        \n",
    "        # keep the area 1.0\n",
    "        area = np.trapz(x=x_arry, y=psi_star_psi)\n",
    "        #print(f'Step {total_steps}: area = {area}')\n",
    "        #psi = psi / math.sqrt(area)\n",
    "        #psi_cuda = psi.cuda()\n",
    "        \n",
    "        #time.sleep(0.1)\n",
    "    \n",
    "    print(f'STOPPED at step {total_steps}: area = {area}')\n",
    "    print_memory_info()"
   ]
  },
  {
   "cell_type": "markdown",
   "id": "3babf4e6",
   "metadata": {},
   "source": [
    "# Solve the Schroedinger equation\n",
    "**Update the plot of Ψ as the calculation runs.**\n",
    "\n",
    "Uses Holoviews with a stream.\n",
    "\n",
    "https://medium.com/@Georgi.Ganchev/dynamic-plots-in-python-jupyter-notebooks-holoviews-f94626de2291\n",
    "https://holoviews.org/user_guide/Streaming_Data.html"
   ]
  },
  {
   "cell_type": "code",
   "execution_count": null,
   "id": "bb501e8d",
   "metadata": {},
   "outputs": [],
   "source": [
    "pipe = Pipe(data=[])\n",
    "dynamic_plot = hv.DynamicMap(hv.Curve, streams=[pipe])\n",
    "dynamic_plot.opts(opts.Curve(width=950, show_grid=True, xlim=(XMIN, XMAX), ylim=(0, 1)))\n",
    "\n",
    "# PLOT WILL APPEAR BELOW ↓"
   ]
  },
  {
   "cell_type": "code",
   "execution_count": null,
   "id": "b666eb8a",
   "metadata": {},
   "outputs": [],
   "source": [
    "# PLOT WILL APPEAR ABOVE ↑\n",
    "\n",
    "# initialize Ψ, then Ψ*Ψ\n",
    "\n",
    "psi           = create_initial_wavepacket(x_arry, X_INIT_PACKET_CTR, LAMBDA0)\n",
    "psi_star      = torch.conj(psi)\n",
    "psi_star_diag = torch.diag(psi_star)\n",
    "psi_star_psi  = psi_star_diag.matmul(psi)\n",
    "psi_star_psi  = psi_star_psi.real  # imaginary part is zero\n",
    "\n",
    "# compute the area under Ψ*Ψ (should be 1.0)\n",
    "\n",
    "area = np.trapz(x=x_arry, y=psi_star_psi)\n",
    "print(f'Initial area under Ψ*Ψ = {area:.4f}   ...should be 1.0') \n",
    "\n",
    "# stream the initial Ψ for plotting\n",
    "\n",
    "pipe.send( {'x': np.array(x_arry), 'y': np.array(psi_star_psi)} )\n",
    "\n",
    "# solve Ψ over many time steps\n",
    "\n",
    "solve(pipe, x_arry, psi)"
   ]
  }
 ],
 "metadata": {
  "kernelspec": {
   "display_name": "Python 3 (ipykernel)",
   "language": "python",
   "name": "python3"
  },
  "language_info": {
   "codemirror_mode": {
    "name": "ipython",
    "version": 3
   },
   "file_extension": ".py",
   "mimetype": "text/x-python",
   "name": "python",
   "nbconvert_exporter": "python",
   "pygments_lexer": "ipython3",
   "version": "3.10.5"
  }
 },
 "nbformat": 4,
 "nbformat_minor": 5
}
